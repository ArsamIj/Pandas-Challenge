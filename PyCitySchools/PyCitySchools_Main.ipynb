{
 "cells": [
  {
   "cell_type": "code",
   "execution_count": 1,
   "id": "499a4992",
   "metadata": {},
   "outputs": [],
   "source": [
    "#Setting up and pulling information"
   ]
  },
  {
   "cell_type": "code",
   "execution_count": 2,
   "id": "3926ca58",
   "metadata": {},
   "outputs": [],
   "source": [
    "import pandas as pd\n",
    "\n",
    "schools_csv = \"Resources/schools_complete.csv\"\n",
    "students_csv = \"Resources/students_complete.csv\"\n",
    "\n",
    "schools_data = pd.read_csv(schools_csv)\n",
    "students_data = pd.read_csv(students_csv)"
   ]
  },
  {
   "cell_type": "code",
   "execution_count": 3,
   "id": "b40c3b81",
   "metadata": {},
   "outputs": [
    {
     "data": {
      "text/html": [
       "<div>\n",
       "<style scoped>\n",
       "    .dataframe tbody tr th:only-of-type {\n",
       "        vertical-align: middle;\n",
       "    }\n",
       "\n",
       "    .dataframe tbody tr th {\n",
       "        vertical-align: top;\n",
       "    }\n",
       "\n",
       "    .dataframe thead th {\n",
       "        text-align: right;\n",
       "    }\n",
       "</style>\n",
       "<table border=\"1\" class=\"dataframe\">\n",
       "  <thead>\n",
       "    <tr style=\"text-align: right;\">\n",
       "      <th></th>\n",
       "      <th>School ID</th>\n",
       "      <th>school_name</th>\n",
       "      <th>type</th>\n",
       "      <th>size</th>\n",
       "      <th>budget</th>\n",
       "    </tr>\n",
       "  </thead>\n",
       "  <tbody>\n",
       "    <tr>\n",
       "      <th>0</th>\n",
       "      <td>0</td>\n",
       "      <td>Huang High School</td>\n",
       "      <td>District</td>\n",
       "      <td>2917</td>\n",
       "      <td>1910635</td>\n",
       "    </tr>\n",
       "    <tr>\n",
       "      <th>1</th>\n",
       "      <td>1</td>\n",
       "      <td>Figueroa High School</td>\n",
       "      <td>District</td>\n",
       "      <td>2949</td>\n",
       "      <td>1884411</td>\n",
       "    </tr>\n",
       "    <tr>\n",
       "      <th>2</th>\n",
       "      <td>2</td>\n",
       "      <td>Shelton High School</td>\n",
       "      <td>Charter</td>\n",
       "      <td>1761</td>\n",
       "      <td>1056600</td>\n",
       "    </tr>\n",
       "    <tr>\n",
       "      <th>3</th>\n",
       "      <td>3</td>\n",
       "      <td>Hernandez High School</td>\n",
       "      <td>District</td>\n",
       "      <td>4635</td>\n",
       "      <td>3022020</td>\n",
       "    </tr>\n",
       "    <tr>\n",
       "      <th>4</th>\n",
       "      <td>4</td>\n",
       "      <td>Griffin High School</td>\n",
       "      <td>Charter</td>\n",
       "      <td>1468</td>\n",
       "      <td>917500</td>\n",
       "    </tr>\n",
       "  </tbody>\n",
       "</table>\n",
       "</div>"
      ],
      "text/plain": [
       "   School ID            school_name      type  size   budget\n",
       "0          0      Huang High School  District  2917  1910635\n",
       "1          1   Figueroa High School  District  2949  1884411\n",
       "2          2    Shelton High School   Charter  1761  1056600\n",
       "3          3  Hernandez High School  District  4635  3022020\n",
       "4          4    Griffin High School   Charter  1468   917500"
      ]
     },
     "execution_count": 3,
     "metadata": {},
     "output_type": "execute_result"
    }
   ],
   "source": [
    "schools_data.head()"
   ]
  },
  {
   "cell_type": "code",
   "execution_count": 4,
   "id": "b5bfd357",
   "metadata": {},
   "outputs": [
    {
     "data": {
      "text/html": [
       "<div>\n",
       "<style scoped>\n",
       "    .dataframe tbody tr th:only-of-type {\n",
       "        vertical-align: middle;\n",
       "    }\n",
       "\n",
       "    .dataframe tbody tr th {\n",
       "        vertical-align: top;\n",
       "    }\n",
       "\n",
       "    .dataframe thead th {\n",
       "        text-align: right;\n",
       "    }\n",
       "</style>\n",
       "<table border=\"1\" class=\"dataframe\">\n",
       "  <thead>\n",
       "    <tr style=\"text-align: right;\">\n",
       "      <th></th>\n",
       "      <th>Student ID</th>\n",
       "      <th>student_name</th>\n",
       "      <th>gender</th>\n",
       "      <th>grade</th>\n",
       "      <th>school_name</th>\n",
       "      <th>reading_score</th>\n",
       "      <th>math_score</th>\n",
       "    </tr>\n",
       "  </thead>\n",
       "  <tbody>\n",
       "    <tr>\n",
       "      <th>0</th>\n",
       "      <td>0</td>\n",
       "      <td>Paul Bradley</td>\n",
       "      <td>M</td>\n",
       "      <td>9th</td>\n",
       "      <td>Huang High School</td>\n",
       "      <td>66</td>\n",
       "      <td>79</td>\n",
       "    </tr>\n",
       "    <tr>\n",
       "      <th>1</th>\n",
       "      <td>1</td>\n",
       "      <td>Victor Smith</td>\n",
       "      <td>M</td>\n",
       "      <td>12th</td>\n",
       "      <td>Huang High School</td>\n",
       "      <td>94</td>\n",
       "      <td>61</td>\n",
       "    </tr>\n",
       "    <tr>\n",
       "      <th>2</th>\n",
       "      <td>2</td>\n",
       "      <td>Kevin Rodriguez</td>\n",
       "      <td>M</td>\n",
       "      <td>12th</td>\n",
       "      <td>Huang High School</td>\n",
       "      <td>90</td>\n",
       "      <td>60</td>\n",
       "    </tr>\n",
       "    <tr>\n",
       "      <th>3</th>\n",
       "      <td>3</td>\n",
       "      <td>Dr. Richard Scott</td>\n",
       "      <td>M</td>\n",
       "      <td>12th</td>\n",
       "      <td>Huang High School</td>\n",
       "      <td>67</td>\n",
       "      <td>58</td>\n",
       "    </tr>\n",
       "    <tr>\n",
       "      <th>4</th>\n",
       "      <td>4</td>\n",
       "      <td>Bonnie Ray</td>\n",
       "      <td>F</td>\n",
       "      <td>9th</td>\n",
       "      <td>Huang High School</td>\n",
       "      <td>97</td>\n",
       "      <td>84</td>\n",
       "    </tr>\n",
       "  </tbody>\n",
       "</table>\n",
       "</div>"
      ],
      "text/plain": [
       "   Student ID       student_name gender grade        school_name  \\\n",
       "0           0       Paul Bradley      M   9th  Huang High School   \n",
       "1           1       Victor Smith      M  12th  Huang High School   \n",
       "2           2    Kevin Rodriguez      M  12th  Huang High School   \n",
       "3           3  Dr. Richard Scott      M  12th  Huang High School   \n",
       "4           4         Bonnie Ray      F   9th  Huang High School   \n",
       "\n",
       "   reading_score  math_score  \n",
       "0             66          79  \n",
       "1             94          61  \n",
       "2             90          60  \n",
       "3             67          58  \n",
       "4             97          84  "
      ]
     },
     "execution_count": 4,
     "metadata": {},
     "output_type": "execute_result"
    }
   ],
   "source": [
    "students_data.head()"
   ]
  },
  {
   "cell_type": "code",
   "execution_count": 5,
   "id": "8a91079c",
   "metadata": {},
   "outputs": [],
   "source": [
    "#District summary"
   ]
  },
  {
   "cell_type": "code",
   "execution_count": 7,
   "id": "d2b04c9c",
   "metadata": {},
   "outputs": [
    {
     "data": {
      "text/plain": [
       "15"
      ]
     },
     "execution_count": 7,
     "metadata": {},
     "output_type": "execute_result"
    }
   ],
   "source": [
    "#Total number of unique schools\n",
    "Total_Num_Schools = len(schools_data[\"school_name\"].unique())\n",
    "Total_Num_Schools"
   ]
  },
  {
   "cell_type": "code",
   "execution_count": 49,
   "id": "6dd10966",
   "metadata": {},
   "outputs": [
    {
     "data": {
      "text/plain": [
       "39170.0"
      ]
     },
     "execution_count": 49,
     "metadata": {},
     "output_type": "execute_result"
    }
   ],
   "source": [
    "#Total students\n",
    "Total_Num_Students = schools_data[\"size\"].sum()\n",
    "Total_Num_Students.astype('float')"
   ]
  },
  {
   "cell_type": "code",
   "execution_count": 11,
   "id": "bd0dd750",
   "metadata": {},
   "outputs": [
    {
     "data": {
      "text/plain": [
       "24649428"
      ]
     },
     "execution_count": 11,
     "metadata": {},
     "output_type": "execute_result"
    }
   ],
   "source": [
    "#Total budget\n",
    "Total_District_Budget = schools_data[\"budget\"].sum()\n",
    "Total_District_Budget"
   ]
  },
  {
   "cell_type": "code",
   "execution_count": 13,
   "id": "bb098f52",
   "metadata": {},
   "outputs": [
    {
     "data": {
      "text/plain": [
       "79.0"
      ]
     },
     "execution_count": 13,
     "metadata": {},
     "output_type": "execute_result"
    }
   ],
   "source": [
    "#Average math score\n",
    "Math_Average = round((students_data[\"math_score\"].mean()), 0)\n",
    "Math_Average"
   ]
  },
  {
   "cell_type": "code",
   "execution_count": 14,
   "id": "bd7da488",
   "metadata": {},
   "outputs": [
    {
     "data": {
      "text/plain": [
       "82.0"
      ]
     },
     "execution_count": 14,
     "metadata": {},
     "output_type": "execute_result"
    }
   ],
   "source": [
    "#Average reading score\n",
    "Reading_Average = round((students_data[\"reading_score\"].mean()), 0)\n",
    "Reading_Average"
   ]
  },
  {
   "cell_type": "code",
   "execution_count": 39,
   "id": "ac223874",
   "metadata": {},
   "outputs": [
    {
     "data": {
      "text/plain": [
       "'74.98%'"
      ]
     },
     "execution_count": 39,
     "metadata": {},
     "output_type": "execute_result"
    }
   ],
   "source": [
    "#% passing math (the percentage of students who passed math) provided passing sore is 60\n",
    "Rows_math_passed = students_data[students_data[\"math_score\"]>69]\n",
    "Num_math_passed = Rows_math_passed[\"math_score\"].count()\n",
    "Percentage_Passed_Math = '{:,.2%}'.format(Num_math_passed/Total_Num_Students)\n",
    "Percentage_Passed_Math"
   ]
  },
  {
   "cell_type": "code",
   "execution_count": 40,
   "id": "4f759443",
   "metadata": {},
   "outputs": [
    {
     "data": {
      "text/plain": [
       "'85.81%'"
      ]
     },
     "execution_count": 40,
     "metadata": {},
     "output_type": "execute_result"
    }
   ],
   "source": [
    "#% passing reading (the percentage of students who passed reading)\n",
    "Rows_reading_passed = students_data[students_data[\"reading_score\"]>69]\n",
    "Num_reading_passed = Rows_reading_passed[\"reading_score\"].count()\n",
    "Percentage_Passed_Reading = '{:,.2%}'.format(Num_reading_passed/Total_Num_Students)\n",
    "Percentage_Passed_Reading"
   ]
  },
  {
   "cell_type": "code",
   "execution_count": 41,
   "id": "7e070b5c",
   "metadata": {},
   "outputs": [
    {
     "data": {
      "text/plain": [
       "'65.17%'"
      ]
     },
     "execution_count": 41,
     "metadata": {},
     "output_type": "execute_result"
    }
   ],
   "source": [
    "#% overall passing (the percentage of students who passed math AND reading)\n",
    "passing_student = students_data[(students_data[\"math_score\"]>69) & (students_data[\"reading_score\"]>69)]\n",
    "Percentage_Passed_Overall = '{:,.2%}'.format((passing_student[\"Student ID\"].count())/Total_Num_Students)\n",
    "Percentage_Passed_Overall"
   ]
  },
  {
   "cell_type": "code",
   "execution_count": 51,
   "id": "8d8c5bf9",
   "metadata": {},
   "outputs": [
    {
     "data": {
      "text/html": [
       "<div>\n",
       "<style scoped>\n",
       "    .dataframe tbody tr th:only-of-type {\n",
       "        vertical-align: middle;\n",
       "    }\n",
       "\n",
       "    .dataframe tbody tr th {\n",
       "        vertical-align: top;\n",
       "    }\n",
       "\n",
       "    .dataframe thead th {\n",
       "        text-align: right;\n",
       "    }\n",
       "</style>\n",
       "<table border=\"1\" class=\"dataframe\">\n",
       "  <thead>\n",
       "    <tr style=\"text-align: right;\">\n",
       "      <th></th>\n",
       "      <th>Number of Schools</th>\n",
       "      <th>Number of Students</th>\n",
       "      <th>Total Budget</th>\n",
       "      <th>Average Math Score</th>\n",
       "      <th>Average Reading Score</th>\n",
       "      <th>% Passing Math</th>\n",
       "      <th>% Passing Reading</th>\n",
       "      <th>% Overall Passing</th>\n",
       "    </tr>\n",
       "  </thead>\n",
       "  <tbody>\n",
       "    <tr>\n",
       "      <th>0</th>\n",
       "      <td>15</td>\n",
       "      <td>39170</td>\n",
       "      <td>$24,649,428.00</td>\n",
       "      <td>79.0</td>\n",
       "      <td>82.0</td>\n",
       "      <td>74.98%</td>\n",
       "      <td>85.81%</td>\n",
       "      <td>85.81%</td>\n",
       "    </tr>\n",
       "  </tbody>\n",
       "</table>\n",
       "</div>"
      ],
      "text/plain": [
       "   Number of Schools  Number of Students    Total Budget  Average Math Score  \\\n",
       "0                 15               39170  $24,649,428.00                79.0   \n",
       "\n",
       "   Average Reading Score % Passing Math % Passing Reading % Overall Passing  \n",
       "0                   82.0         74.98%            85.81%            85.81%  "
      ]
     },
     "execution_count": 51,
     "metadata": {},
     "output_type": "execute_result"
    }
   ],
   "source": [
    "District_Sumary = [{\"Number of Schools\":Total_Num_Schools, \"Number of Students\":Total_Num_Students, \n",
    "                    \"Total Budget\":'${:,.2f}'.format(Total_District_Budget), \"Average Math Score\":Math_Average, \n",
    "                    \"Average Reading Score\":Reading_Average, \"% Passing Math\":Percentage_Passed_Math,\n",
    "                   \"% Passing Reading\":Percentage_Passed_Reading, \"% Overall Passing\":Percentage_Passed_Reading}]\n",
    "\n",
    "District_Sumary_df = pd.DataFrame(District_Sumary)\n",
    "District_Sumary_df"
   ]
  },
  {
   "cell_type": "code",
   "execution_count": null,
   "id": "9becda6c",
   "metadata": {},
   "outputs": [],
   "source": []
  }
 ],
 "metadata": {
  "kernelspec": {
   "display_name": "PythonData",
   "language": "python",
   "name": "pythondata"
  },
  "language_info": {
   "codemirror_mode": {
    "name": "ipython",
    "version": 3
   },
   "file_extension": ".py",
   "mimetype": "text/x-python",
   "name": "python",
   "nbconvert_exporter": "python",
   "pygments_lexer": "ipython3",
   "version": "3.9.13"
  }
 },
 "nbformat": 4,
 "nbformat_minor": 5
}
